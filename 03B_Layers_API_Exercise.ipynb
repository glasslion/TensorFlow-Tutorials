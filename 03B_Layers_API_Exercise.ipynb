{
  "nbformat": 4,
  "nbformat_minor": 0,
  "metadata": {
    "colab": {
      "name": "03B_Layers_API_Exercise.ipynb",
      "version": "0.3.2",
      "provenance": [],
      "collapsed_sections": [],
      "include_colab_link": true
    },
    "kernelspec": {
      "name": "python3",
      "display_name": "Python 3"
    },
    "accelerator": "GPU"
  },
  "cells": [
    {
      "cell_type": "markdown",
      "metadata": {
        "id": "view-in-github",
        "colab_type": "text"
      },
      "source": [
        "[View in Colaboratory](https://colab.research.google.com/github/glasslion/TensorFlow-Tutorials/blob/master/03B_Layers_API_Exercise.ipynb)"
      ]
    },
    {
      "metadata": {
        "id": "dhmFQvNebNXb",
        "colab_type": "code",
        "colab": {}
      },
      "cell_type": "code",
      "source": [
        "%%capture\n",
        "import os\n",
        "work_dir = \"/content/TensorFlow-Tutorials/\"\n",
        "if os.getcwd() != work_dir:\n",
        "    !git clone https://github.com/Hvass-Labs/TensorFlow-Tutorials.git\n",
        "os.chdir(work_dir)"
      ],
      "execution_count": 0,
      "outputs": []
    },
    {
      "metadata": {
        "id": "J190nLzgdyJa",
        "colab_type": "code",
        "colab": {}
      },
      "cell_type": "code",
      "source": [
        "%matplotlib inline\n",
        "import matplotlib.pyplot as plt\n",
        "import tensorflow as tf\n",
        "import numpy as np\n",
        "from sklearn.metrics import confusion_matrix\n",
        "from sklearn.model_selection import train_test_split\n",
        "import math\n",
        "import tqdm"
      ],
      "execution_count": 0,
      "outputs": []
    },
    {
      "metadata": {
        "id": "PNkpQwubd31w",
        "colab_type": "code",
        "colab": {
          "base_uri": "https://localhost:8080/",
          "height": 530
        },
        "outputId": "6be993ab-9996-4759-b130-01ed475b710a"
      },
      "cell_type": "code",
      "source": [
        "from tensorflow.examples.tutorials.mnist import input_data\n",
        "data = input_data.read_data_sets('data/MNIST/', one_hot=True)"
      ],
      "execution_count": 4,
      "outputs": [
        {
          "output_type": "stream",
          "text": [
            "WARNING:tensorflow:From <ipython-input-4-37adf088ce13>:2: read_data_sets (from tensorflow.contrib.learn.python.learn.datasets.mnist) is deprecated and will be removed in a future version.\n",
            "Instructions for updating:\n",
            "Please use alternatives such as official/mnist/dataset.py from tensorflow/models.\n",
            "WARNING:tensorflow:From /usr/local/lib/python3.6/dist-packages/tensorflow/contrib/learn/python/learn/datasets/mnist.py:260: maybe_download (from tensorflow.contrib.learn.python.learn.datasets.base) is deprecated and will be removed in a future version.\n",
            "Instructions for updating:\n",
            "Please write your own downloading logic.\n",
            "WARNING:tensorflow:From /usr/local/lib/python3.6/dist-packages/tensorflow/contrib/learn/python/learn/datasets/base.py:252: _internal_retry.<locals>.wrap.<locals>.wrapped_fn (from tensorflow.contrib.learn.python.learn.datasets.base) is deprecated and will be removed in a future version.\n",
            "Instructions for updating:\n",
            "Please use urllib or similar directly.\n",
            "Successfully downloaded train-images-idx3-ubyte.gz 9912422 bytes.\n",
            "WARNING:tensorflow:From /usr/local/lib/python3.6/dist-packages/tensorflow/contrib/learn/python/learn/datasets/mnist.py:262: extract_images (from tensorflow.contrib.learn.python.learn.datasets.mnist) is deprecated and will be removed in a future version.\n",
            "Instructions for updating:\n",
            "Please use tf.data to implement this functionality.\n",
            "Extracting data/MNIST/train-images-idx3-ubyte.gz\n",
            "Successfully downloaded train-labels-idx1-ubyte.gz 28881 bytes.\n",
            "WARNING:tensorflow:From /usr/local/lib/python3.6/dist-packages/tensorflow/contrib/learn/python/learn/datasets/mnist.py:267: extract_labels (from tensorflow.contrib.learn.python.learn.datasets.mnist) is deprecated and will be removed in a future version.\n",
            "Instructions for updating:\n",
            "Please use tf.data to implement this functionality.\n",
            "Extracting data/MNIST/train-labels-idx1-ubyte.gz\n",
            "WARNING:tensorflow:From /usr/local/lib/python3.6/dist-packages/tensorflow/contrib/learn/python/learn/datasets/mnist.py:110: dense_to_one_hot (from tensorflow.contrib.learn.python.learn.datasets.mnist) is deprecated and will be removed in a future version.\n",
            "Instructions for updating:\n",
            "Please use tf.one_hot on tensors.\n",
            "Successfully downloaded t10k-images-idx3-ubyte.gz 1648877 bytes.\n",
            "Extracting data/MNIST/t10k-images-idx3-ubyte.gz\n",
            "Successfully downloaded t10k-labels-idx1-ubyte.gz 4542 bytes.\n",
            "Extracting data/MNIST/t10k-labels-idx1-ubyte.gz\n",
            "WARNING:tensorflow:From /usr/local/lib/python3.6/dist-packages/tensorflow/contrib/learn/python/learn/datasets/mnist.py:290: DataSet.__init__ (from tensorflow.contrib.learn.python.learn.datasets.mnist) is deprecated and will be removed in a future version.\n",
            "Instructions for updating:\n",
            "Please use alternatives such as official/mnist/dataset.py from tensorflow/models.\n"
          ],
          "name": "stdout"
        }
      ]
    },
    {
      "metadata": {
        "id": "CCX6WhTVeFsj",
        "colab_type": "code",
        "colab": {
          "base_uri": "https://localhost:8080/",
          "height": 85
        },
        "outputId": "286158aa-2c6f-42ff-f4d3-907dfc52ff02"
      },
      "cell_type": "code",
      "source": [
        "print(\"Size of:\")\n",
        "print(\"- Training-set:\\t\\t{}\".format(len(data.train.labels)))\n",
        "print(\"- Test-set:\\t\\t{}\".format(len(data.test.labels)))\n",
        "print(\"- Validation-set:\\t{}\".format(len(data.validation.labels)))"
      ],
      "execution_count": 5,
      "outputs": [
        {
          "output_type": "stream",
          "text": [
            "Size of:\n",
            "- Training-set:\t\t55000\n",
            "- Test-set:\t\t10000\n",
            "- Validation-set:\t5000\n"
          ],
          "name": "stdout"
        }
      ]
    },
    {
      "metadata": {
        "id": "ZKVan_kkeqNe",
        "colab_type": "code",
        "colab": {}
      },
      "cell_type": "code",
      "source": [
        "# We know that MNIST images are 28 pixels in each dimension.\n",
        "img_size = 28\n",
        "\n",
        "# Images are stored in one-dimensional arrays of this length.\n",
        "img_size_flat = img_size * img_size\n",
        "\n",
        "# Tuple with height and width of images used to reshape arrays.\n",
        "img_shape = (img_size, img_size)\n",
        "\n",
        "# Number of colour channels for the images: 1 channel for gray-scale.\n",
        "num_channels = 1\n",
        "\n",
        "# Number of classes, one class for each of 10 digits.\n",
        "num_classes = 10"
      ],
      "execution_count": 0,
      "outputs": []
    },
    {
      "metadata": {
        "id": "X2HOvIlJk2zR",
        "colab_type": "text"
      },
      "cell_type": "markdown",
      "source": [
        "## Plot images to see if lables are correct"
      ]
    },
    {
      "metadata": {
        "id": "oa__TA2pfUhj",
        "colab_type": "code",
        "colab": {}
      },
      "cell_type": "code",
      "source": [
        "def plot_images(images, cls_true, cls_pred=None):\n",
        "    assert len(images) == len(cls_true) == 9\n",
        "    \n",
        "    # Create figure with 3x3 sub-plots.\n",
        "    fig, axes = plt.subplots(3, 3)\n",
        "    fig.subplots_adjust(hspace=0.3, wspace=0.3)\n",
        "\n",
        "    for i, ax in enumerate(axes.flat):\n",
        "        # Plot image.\n",
        "        ax.imshow(images[i].reshape(img_shape), cmap='binary')\n",
        "\n",
        "        # Show true and predicted classes.\n",
        "        if cls_pred is None:\n",
        "            xlabel = \"True: {0}\".format(cls_true[i])\n",
        "        else:\n",
        "            xlabel = \"True: {0}, Pred: {1}\".format(cls_true[i], cls_pred[i])\n",
        "\n",
        "        # Show the classes as the label on the x-axis.\n",
        "        ax.set_xlabel(xlabel)\n",
        "        \n",
        "        # Remove ticks from the plot.\n",
        "        ax.set_xticks([])\n",
        "        ax.set_yticks([])\n",
        "    \n",
        "    # Ensure the plot is shown correctly with multiple plots\n",
        "    # in a single Notebook cell.\n",
        "    plt.show()"
      ],
      "execution_count": 0,
      "outputs": []
    },
    {
      "metadata": {
        "id": "tZNLlQkjffJN",
        "colab_type": "code",
        "colab": {
          "base_uri": "https://localhost:8080/",
          "height": 262
        },
        "outputId": "975a984e-e413-4753-e7d0-b8503bff4701"
      },
      "cell_type": "code",
      "source": [
        "# Get the first images from the test-set.\n",
        "images = data.test.images[0:9]\n",
        "\n",
        "data.test.cls = np.argmax(data.test.labels, axis=1)\n",
        "# Get the true classes for those images.\n",
        "cls_true = data.test.cls[0:9]\n",
        "\n",
        "# Plot the images and labels using our helper-function above.\n",
        "plot_images(images=images, cls_true=cls_true)"
      ],
      "execution_count": 8,
      "outputs": [
        {
          "output_type": "display_data",
          "data": {
            "image/png": "[encoded data removed]",
            "text/plain": [
              "<matplotlib.figure.Figure at 0x7f57107a8908>"
            ]
          },
          "metadata": {
            "tags": []
          }
        }
      ]
    },
    {
      "metadata": {
        "id": "RBz7rqKClJ-e",
        "colab_type": "text"
      },
      "cell_type": "markdown",
      "source": [
        "## 模型定义"
      ]
    },
    {
      "metadata": {
        "id": "ie8GeLL_Ksea",
        "colab_type": "code",
        "colab": {}
      },
      "cell_type": "code",
      "source": [
        "tf.reset_default_graph()"
      ],
      "execution_count": 0,
      "outputs": []
    },
    {
      "metadata": {
        "id": "OELhnDTWlJFB",
        "colab_type": "code",
        "colab": {}
      },
      "cell_type": "code",
      "source": [
        "x = tf.placeholder(tf.float32, shape=[None, img_size_flat], name='x')\n",
        "x_image = tf.reshape(x, [-1, img_size, img_size, num_channels])\n",
        "is_training = tf.placeholder_with_default(True, shape=())\n"
      ],
      "execution_count": 0,
      "outputs": []
    },
    {
      "metadata": {
        "id": "eVMcQbbDlEx3",
        "colab_type": "code",
        "colab": {}
      },
      "cell_type": "code",
      "source": [
        "with tf.variable_scope(tf.get_variable_scope(), reuse=tf.AUTO_REUSE):\n",
        "    y_true = tf.placeholder(tf.float32, shape=[None, num_classes], name='y_true')\n",
        "    y_true_cls = tf.argmax(y_true, axis=1)\n",
        "    \n",
        "    net = x_image\n",
        "    net = tf.layers.conv2d(inputs=net, name='layer_conv1', padding='same', filters=16, kernel_size=5, activation=tf.nn.relu)\n",
        "    net = tf.layers.max_pooling2d(inputs=net, pool_size=2, strides=2)\n",
        "    net = tf.layers.conv2d(inputs=net, name='layer_conv2', padding='same', filters=36, kernel_size=5, activation=tf.nn.relu)\n",
        "    net = tf.layers.max_pooling2d(inputs=net, pool_size=2, strides=2)\n",
        "    net = tf.layers.flatten(net)\n",
        "    net = tf.layers.dense(inputs=net, name='layer_fc1', units=18, activation=tf.nn.relu)\n",
        "    net = tf.layers.dropout(inputs=net, name='layer_dropout1', rate=0.5, training=is_training)\n",
        "    net = tf.layers.dense(inputs=net, name='layer_fc_out', units=num_classes, activation=None)\n",
        "    logits = net\n",
        "    y_pred = tf.nn.softmax(logits)\n",
        "    \n",
        "    "
      ],
      "execution_count": 0,
      "outputs": []
    },
    {
      "metadata": {
        "id": "3dnV3sbI99v3",
        "colab_type": "text"
      },
      "cell_type": "markdown",
      "source": [
        "### Loss & Optimizer"
      ]
    },
    {
      "metadata": {
        "id": "1BLF-91F91Zn",
        "colab_type": "code",
        "colab": {}
      },
      "cell_type": "code",
      "source": [
        "cross_entropy = tf.nn.softmax_cross_entropy_with_logits_v2(labels=y_true, logits=logits)\n",
        "loss = tf.reduce_mean(cross_entropy)\n",
        "optimizer = tf.train.AdamOptimizer(learning_rate=1e-4).minimize(loss)"
      ],
      "execution_count": 0,
      "outputs": []
    },
    {
      "metadata": {
        "id": "bajMJy1l9u4d",
        "colab_type": "text"
      },
      "cell_type": "markdown",
      "source": [
        "### Accuracy"
      ]
    },
    {
      "metadata": {
        "id": "hXapNFO29kjV",
        "colab_type": "code",
        "colab": {}
      },
      "cell_type": "code",
      "source": [
        "y_pred_cls = tf.argmax(y_pred, axis=1)\n",
        "correct_prediction = tf.equal(y_pred_cls, y_true_cls)\n",
        "accuracy = tf.reduce_mean(tf.cast(correct_prediction, tf.float32))"
      ],
      "execution_count": 0,
      "outputs": []
    },
    {
      "metadata": {
        "id": "A8PeXOHPk08Q",
        "colab_type": "code",
        "colab": {
          "base_uri": "https://localhost:8080/",
          "height": 459
        },
        "outputId": "8d2e652a-4c89-488c-cd6d-c482df0fedf2"
      },
      "cell_type": "code",
      "source": [
        "for var in tf.get_collection(tf.GraphKeys.GLOBAL_VARIABLES):\n",
        "    print(var)"
      ],
      "execution_count": 78,
      "outputs": [
        {
          "output_type": "stream",
          "text": [
            "<tf.Variable 'layer_conv1/kernel:0' shape=(5, 5, 1, 16) dtype=float32_ref>\n",
            "<tf.Variable 'layer_conv1/bias:0' shape=(16,) dtype=float32_ref>\n",
            "<tf.Variable 'layer_conv2/kernel:0' shape=(5, 5, 16, 36) dtype=float32_ref>\n",
            "<tf.Variable 'layer_conv2/bias:0' shape=(36,) dtype=float32_ref>\n",
            "<tf.Variable 'layer_fc1/kernel:0' shape=(1764, 18) dtype=float32_ref>\n",
            "<tf.Variable 'layer_fc1/bias:0' shape=(18,) dtype=float32_ref>\n",
            "<tf.Variable 'layer_fc_out/kernel:0' shape=(18, 10) dtype=float32_ref>\n",
            "<tf.Variable 'layer_fc_out/bias:0' shape=(10,) dtype=float32_ref>\n",
            "<tf.Variable 'beta1_power:0' shape=() dtype=float32_ref>\n",
            "<tf.Variable 'beta2_power:0' shape=() dtype=float32_ref>\n",
            "<tf.Variable 'layer_conv1/kernel/Adam:0' shape=(5, 5, 1, 16) dtype=float32_ref>\n",
            "<tf.Variable 'layer_conv1/kernel/Adam_1:0' shape=(5, 5, 1, 16) dtype=float32_ref>\n",
            "<tf.Variable 'layer_conv1/bias/Adam:0' shape=(16,) dtype=float32_ref>\n",
            "<tf.Variable 'layer_conv1/bias/Adam_1:0' shape=(16,) dtype=float32_ref>\n",
            "<tf.Variable 'layer_conv2/kernel/Adam:0' shape=(5, 5, 16, 36) dtype=float32_ref>\n",
            "<tf.Variable 'layer_conv2/kernel/Adam_1:0' shape=(5, 5, 16, 36) dtype=float32_ref>\n",
            "<tf.Variable 'layer_conv2/bias/Adam:0' shape=(36,) dtype=float32_ref>\n",
            "<tf.Variable 'layer_conv2/bias/Adam_1:0' shape=(36,) dtype=float32_ref>\n",
            "<tf.Variable 'layer_fc1/kernel/Adam:0' shape=(1764, 18) dtype=float32_ref>\n",
            "<tf.Variable 'layer_fc1/kernel/Adam_1:0' shape=(1764, 18) dtype=float32_ref>\n",
            "<tf.Variable 'layer_fc1/bias/Adam:0' shape=(18,) dtype=float32_ref>\n",
            "<tf.Variable 'layer_fc1/bias/Adam_1:0' shape=(18,) dtype=float32_ref>\n",
            "<tf.Variable 'layer_fc_out/kernel/Adam:0' shape=(18, 10) dtype=float32_ref>\n",
            "<tf.Variable 'layer_fc_out/kernel/Adam_1:0' shape=(18, 10) dtype=float32_ref>\n",
            "<tf.Variable 'layer_fc_out/bias/Adam:0' shape=(10,) dtype=float32_ref>\n",
            "<tf.Variable 'layer_fc_out/bias/Adam_1:0' shape=(10,) dtype=float32_ref>\n"
          ],
          "name": "stdout"
        }
      ]
    },
    {
      "metadata": {
        "id": "6VGfAq8paRD4",
        "colab_type": "text"
      },
      "cell_type": "markdown",
      "source": [
        "## 获取网络层的权重\n",
        "这里用到的 API 着实诡异， tf 应该提供个更方便的接口\n",
        "\n",
        "参考:\n",
        "\n",
        "[How to get weights in tf.layers.dense?](https://stackoverflow.com/questions/45372291/how-to-get-weights-in-tf-layers-dense/45372632)"
      ]
    },
    {
      "metadata": {
        "id": "w1koff89Y1d1",
        "colab_type": "code",
        "colab": {}
      },
      "cell_type": "code",
      "source": [
        "def get_weights_variable(layer_name):\n",
        "    with tf.variable_scope(layer_name, reuse=True):\n",
        "        variable = tf.get_variable('kernel')\n",
        "      \n",
        "    return variable   "
      ],
      "execution_count": 0,
      "outputs": []
    },
    {
      "metadata": {
        "id": "R7cbNg-saPyc",
        "colab_type": "code",
        "colab": {}
      },
      "cell_type": "code",
      "source": [
        "def get_layer_tensor(layer_name):\n",
        "    return tf.get_default_graph().get_tensor_by_name(layer_name)"
      ],
      "execution_count": 0,
      "outputs": []
    },
    {
      "metadata": {
        "id": "wg-BQ2--cfql",
        "colab_type": "text"
      },
      "cell_type": "markdown",
      "source": [
        "## 模型训练"
      ]
    },
    {
      "metadata": {
        "id": "iRfwyhVBvefg",
        "colab_type": "code",
        "colab": {}
      },
      "cell_type": "code",
      "source": [
        "train = data.train\n",
        "valid = data.test\n",
        "epochs = 1\n",
        "batch_size = 32\n",
        "\n",
        "sess = tf.Session()\n",
        "sess.run(tf.global_variables_initializer())"
      ],
      "execution_count": 0,
      "outputs": []
    },
    {
      "metadata": {
        "id": "a5q7YC8cbVnd",
        "colab_type": "code",
        "colab": {}
      },
      "cell_type": "code",
      "source": [
        "\n",
        "def fit(epochs, train, valid, batch_size=32):\n",
        "    for epoch in range(epochs):\n",
        "        steps_per_epoch = math.ceil(train.num_examples/batch_size)\n",
        "        pbar = tqdm.trange(steps_per_epoch, disable=True)\n",
        "        for step in pbar:\n",
        "            x_batch, y_batch = train.next_batch(batch_size)\n",
        "            train_feed = {\n",
        "                x: x_batch,\n",
        "                y_true: y_batch\n",
        "            }\n",
        "            sess.run(optimizer, feed_dict=train_feed)\n",
        "            train_acc, train_loss = sess.run([accuracy, loss], feed_dict=train_feed)\n",
        "            pbar.set_description('train accu： {:.6f}    train loss {:.6f}'.format(train_acc, train_loss))\n",
        "\n",
        "        # Caluate validation\n",
        "        val_acc = 0\n",
        "        val_loss = 0\n",
        "        valid_steps_per_epoch = math.ceil(valid.num_examples/batch_size)\n",
        "        for step in range(valid_steps_per_epoch):\n",
        "            val_x_batch, val_y_batch = valid.next_batch(batch_size)\n",
        "            valid_feed = {\n",
        "                x: val_x_batch,\n",
        "                y_true: val_y_batch,\n",
        "            }\n",
        "            va, vl = sess.run([accuracy, loss], feed_dict=train_feed)\n",
        "            val_acc += va / valid_steps_per_epoch\n",
        "            val_loss += vl / valid_steps_per_epoch\n",
        "        print('valid accu： {:.6f}    valid loss {:.6f}'.format(val_acc, val_loss))"
      ],
      "execution_count": 0,
      "outputs": []
    },
    {
      "metadata": {
        "id": "YULA2xBJtKH_",
        "colab_type": "code",
        "colab": {
          "base_uri": "https://localhost:8080/",
          "height": 102
        },
        "outputId": "f4ec28ee-6a71-470a-e077-1670faec2609"
      },
      "cell_type": "code",
      "source": [
        "fit(5, data.train, data.validation)"
      ],
      "execution_count": 86,
      "outputs": [
        {
          "output_type": "stream",
          "text": [
            "valid accu： 0.846338    valid loss 0.356304\n",
            "valid accu： 0.859674    valid loss 0.380435\n",
            "valid accu： 0.846537    valid loss 0.392014\n",
            "valid accu： 0.847532    valid loss 0.445182\n",
            "valid accu： 0.844148    valid loss 0.376192\n"
          ],
          "name": "stdout"
        }
      ]
    },
    {
      "metadata": {
        "id": "_1bolgBQK3SJ",
        "colab_type": "code",
        "colab": {
          "base_uri": "https://localhost:8080/",
          "height": 34
        },
        "outputId": "f7336c39-552e-4522-b9df-6bee9cf1ef81"
      },
      "cell_type": "code",
      "source": [
        "fit(1, data.train, data.validation)"
      ],
      "execution_count": 138,
      "outputs": [
        {
          "output_type": "stream",
          "text": [
            "valid accu： 0.968750    valid loss 0.039196\n"
          ],
          "name": "stdout"
        }
      ]
    },
    {
      "metadata": {
        "id": "2ATKx3TX4vlC",
        "colab_type": "text"
      },
      "cell_type": "markdown",
      "source": [
        "## Predict"
      ]
    },
    {
      "metadata": {
        "id": "eT-XWb3T5qJy",
        "colab_type": "code",
        "colab": {}
      },
      "cell_type": "code",
      "source": [
        "def predict(dataset, batch_size=32):\n",
        "\n",
        "    pred = np.zeros((dataset.num_examples, num_classes))\n",
        "    for offset in range(0, dataset.num_examples, batch_size):\n",
        "        x_batch, y_batch = dataset.images[offset:offset + batch_size], dataset.labels[offset:offset + batch_size]\n",
        "        test_feed = {\n",
        "            x: x_batch,\n",
        "            y_true: y_batch,\n",
        "            is_training: False,\n",
        "        }\n",
        "        pred_batch = sess.run(y_pred, test_feed)\n",
        "        pred[offset:offset+len(pred_batch)] = pred_batch\n",
        "    return pred"
      ],
      "execution_count": 0,
      "outputs": []
    },
    {
      "metadata": {
        "id": "mc50U3nHez-K",
        "colab_type": "code",
        "colab": {}
      },
      "cell_type": "code",
      "source": [
        "pred = predict(data.test, batch_size=32)"
      ],
      "execution_count": 0,
      "outputs": []
    },
    {
      "metadata": {
        "id": "65RLUAFxkcHH",
        "colab_type": "code",
        "colab": {}
      },
      "cell_type": "code",
      "source": [
        "def show_accuracy(pred, true):\n",
        "    pred_cls = np.argmax(pred, axis=1)\n",
        "    true_cls  = np.argmax(true, axis=1)\n",
        "    \n",
        "    return np.count_nonzero(pred_cls==true_cls) / len(pred_cls)\n",
        "    "
      ],
      "execution_count": 0,
      "outputs": []
    },
    {
      "metadata": {
        "id": "gjEOak5B0X_r",
        "colab_type": "code",
        "colab": {
          "base_uri": "https://localhost:8080/",
          "height": 34
        },
        "outputId": "d7edc942-8906-40b0-8d1f-907ee8875b69"
      },
      "cell_type": "code",
      "source": [
        "show_accuracy(pred, data.test.labels)\n"
      ],
      "execution_count": 94,
      "outputs": [
        {
          "output_type": "execute_result",
          "data": {
            "text/plain": [
              "0.9857"
            ]
          },
          "metadata": {
            "tags": []
          },
          "execution_count": 94
        }
      ]
    },
    {
      "metadata": {
        "id": "oMWSlhDQillH",
        "colab_type": "code",
        "colab": {}
      },
      "cell_type": "code",
      "source": [
        "def show_incorrect_images(pred, test):\n",
        "    pred_cls = np.argmax(pred, axis=1)\n",
        "    true_cls  = np.argmax(test.labels, axis=1)\n",
        "    incorrect = np.where(pred_cls!=true_cls)[0]\n",
        "    incorrect = np.random.choice(incorrect, 9)\n",
        "    plot_images(test.images[incorrect], true_cls[incorrect], pred_cls[incorrect])\n",
        "    "
      ],
      "execution_count": 0,
      "outputs": []
    },
    {
      "metadata": {
        "id": "TiclMr7ihXbj",
        "colab_type": "code",
        "colab": {
          "base_uri": "https://localhost:8080/",
          "height": 262
        },
        "outputId": "8fe49bf4-d077-4309-b9be-fff591d2f58d"
      },
      "cell_type": "code",
      "source": [
        "show_incorrect_images(pred, data.test)"
      ],
      "execution_count": 28,
      "outputs": [
        {
          "output_type": "display_data",
          "data": {
            "image/png": "[encoded data removed]",
            "text/plain": [
              "<matplotlib.figure.Figure at 0x7f5710d648d0>"
            ]
          },
          "metadata": {
            "tags": []
          }
        }
      ]
    },
    {
      "metadata": {
        "id": "lOBHPZWqh8ry",
        "colab_type": "code",
        "colab": {}
      },
      "cell_type": "code",
      "source": [
        "def show_confusion_matrix(pred, true):\n",
        "    pred_cls = np.argmax(pred, axis=1)\n",
        "    true_cls  = np.argmax(true, axis=1)\n",
        "    cm = confusion_matrix(true_cls, pred_cls)\n",
        "    plt.matshow(cm, cmap=plt.cm.GnBu)\n",
        "    tick_marks = np.arange(num_classes)\n",
        "    plt.xticks(tick_marks, range(num_classes))\n",
        "    plt.yticks(tick_marks, range(num_classes))\n",
        "    plt.colorbar()\n",
        "    plt.show()\n"
      ],
      "execution_count": 0,
      "outputs": []
    },
    {
      "metadata": {
        "id": "dxVTx-SryXk7",
        "colab_type": "code",
        "colab": {
          "base_uri": "https://localhost:8080/",
          "height": 260
        },
        "outputId": "b7dcb191-1d53-4054-abcd-801b11ce4467"
      },
      "cell_type": "code",
      "source": [
        "show_confusion_matrix(pred, data.test.labels)\n"
      ],
      "execution_count": 29,
      "outputs": [
        {
          "output_type": "display_data",
          "data": {
            "image/png": "[encoded data removed]",
            "text/plain": [
              "<matplotlib.figure.Figure at 0x7f570f9214e0>"
            ]
          },
          "metadata": {
            "tags": []
          }
        }
      ]
    },
    {
      "metadata": {
        "id": "bvTy72dwqyIr",
        "colab_type": "text"
      },
      "cell_type": "markdown",
      "source": [
        "## Visualie model layer weights & filters"
      ]
    },
    {
      "metadata": {
        "id": "674trr1Vq-og",
        "colab_type": "code",
        "colab": {}
      },
      "cell_type": "code",
      "source": [
        "def plot_conv_weights(layer_name, input_channel=0):\n",
        "    weights = get_weights_variable(layer_name)\n",
        "    w = sess.run(weights)\n",
        "    w_min = np.min(w)\n",
        "    w_max = np.max(w)\n",
        "    num_filters = w.shape[3]\n",
        "    num_grids = math.ceil(math.sqrt(num_filters))\n",
        "    fig, axes = plt.subplots(num_grids, num_grids)\n",
        "    for i, ax in enumerate(axes.flat):\n",
        "        if i >= num_filters:\n",
        "            break\n",
        "        img = w[:,:, input_channel, i]\n",
        "        ax.imshow(img, vmin=w_min, vmax=w_max, interpolation='nearest', cmap='seismic')\n",
        "        ax.set_xticks([])\n",
        "        ax.set_yticks([])\n",
        "    plt.show()\n",
        "        "
      ],
      "execution_count": 0,
      "outputs": []
    },
    {
      "metadata": {
        "id": "kvnKCLCHkQK6",
        "colab_type": "code",
        "colab": {
          "base_uri": "https://localhost:8080/",
          "height": 248
        },
        "outputId": "18459a04-aad8-4adc-ceed-c50de3e5fe58"
      },
      "cell_type": "code",
      "source": [
        "plot_conv_weights('layer_conv1')\n"
      ],
      "execution_count": 143,
      "outputs": [
        {
          "output_type": "display_data",
          "data": {
            "image/png": "[encoded data removed]",
            "text/plain": [
              "<matplotlib.figure.Figure at 0x7f1da7956898>"
            ]
          },
          "metadata": {
            "tags": []
          }
        }
      ]
    },
    {
      "metadata": {
        "id": "8KeIRGgmlGAY",
        "colab_type": "code",
        "colab": {}
      },
      "cell_type": "code",
      "source": [
        "image1 = data.test.images[0]"
      ],
      "execution_count": 0,
      "outputs": []
    },
    {
      "metadata": {
        "id": "qHpmFrRYERL7",
        "colab_type": "code",
        "colab": {}
      },
      "cell_type": "code",
      "source": [
        "def plot_conv_output(layer_name, image):\n",
        "    layer = get_layer_tensor(layer_name+':0')\n",
        "    feed_dict= {x: [image]}\n",
        "    output = sess.run(layer, feed_dict=feed_dict)\n",
        "    num_filters = output.shape[3]\n",
        "    num_grids = math.ceil(math.sqrt(num_filters))\n",
        "    fig, axes = plt.subplots(num_grids, num_grids)\n",
        "    for i, ax in enumerate(axes.flat):\n",
        "        if i >= num_filters:\n",
        "            break\n",
        "        img = output[0, :, :, i]\n",
        "        ax.imshow(img, interpolation='nearest', cmap='seismic')\n",
        "        ax.set_xticks([])\n",
        "        ax.set_yticks([])\n",
        "    plt.show()\n",
        "        "
      ],
      "execution_count": 0,
      "outputs": []
    },
    {
      "metadata": {
        "id": "t5hAyCKGClyv",
        "colab_type": "code",
        "colab": {
          "base_uri": "https://localhost:8080/",
          "height": 248
        },
        "outputId": "87d8b8ea-9e64-4d5f-bb18-f75664c9d8fb"
      },
      "cell_type": "code",
      "source": [
        "rand_img = data.test.images[np.random.randint(0, len(data.test.images))]\n",
        "plot_conv_output('max_pooling2d/MaxPool', image=rand_img)"
      ],
      "execution_count": 146,
      "outputs": [
        {
          "output_type": "display_data",
          "data": {
            "image/png": "[encoded data removed]",
            "text/plain": [
              "<matplotlib.figure.Figure at 0x7f1d5ea39a90>"
            ]
          },
          "metadata": {
            "tags": []
          }
        }
      ]
    },
    {
      "metadata": {
        "id": "9nQMbyScr9fD",
        "colab_type": "code",
        "colab": {
          "base_uri": "https://localhost:8080/",
          "height": 5168
        },
        "outputId": "f1025095-64af-49d7-9808-5ce514b1720f"
      },
      "cell_type": "code",
      "source": [
        "# List all tensors\n",
        "tf.get_default_graph().get_operations()"
      ],
      "execution_count": 141,
      "outputs": [
        {
          "output_type": "execute_result",
          "data": {
            "text/plain": [
              "[<tf.Operation 'x' type=Placeholder>,\n",
              " <tf.Operation 'Reshape/shape' type=Const>,\n",
              " <tf.Operation 'Reshape' type=Reshape>,\n",
              " <tf.Operation 'y_true' type=Placeholder>,\n",
              " <tf.Operation 'ArgMax/dimension' type=Const>,\n",
              " <tf.Operation 'ArgMax' type=ArgMax>,\n",
              " <tf.Operation 'layer_conv1/kernel/Initializer/random_uniform/shape' type=Const>,\n",
              " <tf.Operation 'layer_conv1/kernel/Initializer/random_uniform/min' type=Const>,\n",
              " <tf.Operation 'layer_conv1/kernel/Initializer/random_uniform/max' type=Const>,\n",
              " <tf.Operation 'layer_conv1/kernel/Initializer/random_uniform/RandomUniform' type=RandomUniform>,\n",
              " <tf.Operation 'layer_conv1/kernel/Initializer/random_uniform/sub' type=Sub>,\n",
              " <tf.Operation 'layer_conv1/kernel/Initializer/random_uniform/mul' type=Mul>,\n",
              " <tf.Operation 'layer_conv1/kernel/Initializer/random_uniform' type=Add>,\n",
              " <tf.Operation 'layer_conv1/kernel' type=VariableV2>,\n",
              " <tf.Operation 'layer_conv1/kernel/Assign' type=Assign>,\n",
              " <tf.Operation 'layer_conv1/kernel/read' type=Identity>,\n",
              " <tf.Operation 'layer_conv1/bias/Initializer/zeros' type=Const>,\n",
              " <tf.Operation 'layer_conv1/bias' type=VariableV2>,\n",
              " <tf.Operation 'layer_conv1/bias/Assign' type=Assign>,\n",
              " <tf.Operation 'layer_conv1/bias/read' type=Identity>,\n",
              " <tf.Operation 'layer_conv1/dilation_rate' type=Const>,\n",
              " <tf.Operation 'layer_conv1/Conv2D' type=Conv2D>,\n",
              " <tf.Operation 'layer_conv1/BiasAdd' type=BiasAdd>,\n",
              " <tf.Operation 'layer_conv1/Relu' type=Relu>,\n",
              " <tf.Operation 'max_pooling2d/MaxPool' type=MaxPool>,\n",
              " <tf.Operation 'layer_conv2/kernel/Initializer/random_uniform/shape' type=Const>,\n",
              " <tf.Operation 'layer_conv2/kernel/Initializer/random_uniform/min' type=Const>,\n",
              " <tf.Operation 'layer_conv2/kernel/Initializer/random_uniform/max' type=Const>,\n",
              " <tf.Operation 'layer_conv2/kernel/Initializer/random_uniform/RandomUniform' type=RandomUniform>,\n",
              " <tf.Operation 'layer_conv2/kernel/Initializer/random_uniform/sub' type=Sub>,\n",
              " <tf.Operation 'layer_conv2/kernel/Initializer/random_uniform/mul' type=Mul>,\n",
              " <tf.Operation 'layer_conv2/kernel/Initializer/random_uniform' type=Add>,\n",
              " <tf.Operation 'layer_conv2/kernel' type=VariableV2>,\n",
              " <tf.Operation 'layer_conv2/kernel/Assign' type=Assign>,\n",
              " <tf.Operation 'layer_conv2/kernel/read' type=Identity>,\n",
              " <tf.Operation 'layer_conv2/bias/Initializer/zeros' type=Const>,\n",
              " <tf.Operation 'layer_conv2/bias' type=VariableV2>,\n",
              " <tf.Operation 'layer_conv2/bias/Assign' type=Assign>,\n",
              " <tf.Operation 'layer_conv2/bias/read' type=Identity>,\n",
              " <tf.Operation 'layer_conv2/dilation_rate' type=Const>,\n",
              " <tf.Operation 'layer_conv2/Conv2D' type=Conv2D>,\n",
              " <tf.Operation 'layer_conv2/BiasAdd' type=BiasAdd>,\n",
              " <tf.Operation 'layer_conv2/Relu' type=Relu>,\n",
              " <tf.Operation 'max_pooling2d_1/MaxPool' type=MaxPool>,\n",
              " <tf.Operation 'flatten/Shape' type=Shape>,\n",
              " <tf.Operation 'flatten/strided_slice/stack' type=Const>,\n",
              " <tf.Operation 'flatten/strided_slice/stack_1' type=Const>,\n",
              " <tf.Operation 'flatten/strided_slice/stack_2' type=Const>,\n",
              " <tf.Operation 'flatten/strided_slice' type=StridedSlice>,\n",
              " <tf.Operation 'flatten/Reshape/shape/1' type=Const>,\n",
              " <tf.Operation 'flatten/Reshape/shape' type=Pack>,\n",
              " <tf.Operation 'flatten/Reshape' type=Reshape>,\n",
              " <tf.Operation 'layer_fc1/kernel/Initializer/random_uniform/shape' type=Const>,\n",
              " <tf.Operation 'layer_fc1/kernel/Initializer/random_uniform/min' type=Const>,\n",
              " <tf.Operation 'layer_fc1/kernel/Initializer/random_uniform/max' type=Const>,\n",
              " <tf.Operation 'layer_fc1/kernel/Initializer/random_uniform/RandomUniform' type=RandomUniform>,\n",
              " <tf.Operation 'layer_fc1/kernel/Initializer/random_uniform/sub' type=Sub>,\n",
              " <tf.Operation 'layer_fc1/kernel/Initializer/random_uniform/mul' type=Mul>,\n",
              " <tf.Operation 'layer_fc1/kernel/Initializer/random_uniform' type=Add>,\n",
              " <tf.Operation 'layer_fc1/kernel' type=VariableV2>,\n",
              " <tf.Operation 'layer_fc1/kernel/Assign' type=Assign>,\n",
              " <tf.Operation 'layer_fc1/kernel/read' type=Identity>,\n",
              " <tf.Operation 'layer_fc1/bias/Initializer/zeros' type=Const>,\n",
              " <tf.Operation 'layer_fc1/bias' type=VariableV2>,\n",
              " <tf.Operation 'layer_fc1/bias/Assign' type=Assign>,\n",
              " <tf.Operation 'layer_fc1/bias/read' type=Identity>,\n",
              " <tf.Operation 'layer_fc1/MatMul' type=MatMul>,\n",
              " <tf.Operation 'layer_fc1/BiasAdd' type=BiasAdd>,\n",
              " <tf.Operation 'layer_fc1/Relu' type=Relu>,\n",
              " <tf.Operation 'layer_dropout1/Identity' type=Identity>,\n",
              " <tf.Operation 'layer_fc_out/kernel/Initializer/random_uniform/shape' type=Const>,\n",
              " <tf.Operation 'layer_fc_out/kernel/Initializer/random_uniform/min' type=Const>,\n",
              " <tf.Operation 'layer_fc_out/kernel/Initializer/random_uniform/max' type=Const>,\n",
              " <tf.Operation 'layer_fc_out/kernel/Initializer/random_uniform/RandomUniform' type=RandomUniform>,\n",
              " <tf.Operation 'layer_fc_out/kernel/Initializer/random_uniform/sub' type=Sub>,\n",
              " <tf.Operation 'layer_fc_out/kernel/Initializer/random_uniform/mul' type=Mul>,\n",
              " <tf.Operation 'layer_fc_out/kernel/Initializer/random_uniform' type=Add>,\n",
              " <tf.Operation 'layer_fc_out/kernel' type=VariableV2>,\n",
              " <tf.Operation 'layer_fc_out/kernel/Assign' type=Assign>,\n",
              " <tf.Operation 'layer_fc_out/kernel/read' type=Identity>,\n",
              " <tf.Operation 'layer_fc_out/bias/Initializer/zeros' type=Const>,\n",
              " <tf.Operation 'layer_fc_out/bias' type=VariableV2>,\n",
              " <tf.Operation 'layer_fc_out/bias/Assign' type=Assign>,\n",
              " <tf.Operation 'layer_fc_out/bias/read' type=Identity>,\n",
              " <tf.Operation 'layer_fc_out/MatMul' type=MatMul>,\n",
              " <tf.Operation 'layer_fc_out/BiasAdd' type=BiasAdd>,\n",
              " <tf.Operation 'Softmax' type=Softmax>,\n",
              " <tf.Operation 'softmax_cross_entropy_with_logits/Rank' type=Const>,\n",
              " <tf.Operation 'softmax_cross_entropy_with_logits/Shape' type=Shape>,\n",
              " <tf.Operation 'softmax_cross_entropy_with_logits/Rank_1' type=Const>,\n",
              " <tf.Operation 'softmax_cross_entropy_with_logits/Shape_1' type=Shape>,\n",
              " <tf.Operation 'softmax_cross_entropy_with_logits/Sub/y' type=Const>,\n",
              " <tf.Operation 'softmax_cross_entropy_with_logits/Sub' type=Sub>,\n",
              " <tf.Operation 'softmax_cross_entropy_with_logits/Slice/begin' type=Pack>,\n",
              " <tf.Operation 'softmax_cross_entropy_with_logits/Slice/size' type=Const>,\n",
              " <tf.Operation 'softmax_cross_entropy_with_logits/Slice' type=Slice>,\n",
              " <tf.Operation 'softmax_cross_entropy_with_logits/concat/values_0' type=Const>,\n",
              " <tf.Operation 'softmax_cross_entropy_with_logits/concat/axis' type=Const>,\n",
              " <tf.Operation 'softmax_cross_entropy_with_logits/concat' type=ConcatV2>,\n",
              " <tf.Operation 'softmax_cross_entropy_with_logits/Reshape' type=Reshape>,\n",
              " <tf.Operation 'softmax_cross_entropy_with_logits/Rank_2' type=Const>,\n",
              " <tf.Operation 'softmax_cross_entropy_with_logits/Shape_2' type=Shape>,\n",
              " <tf.Operation 'softmax_cross_entropy_with_logits/Sub_1/y' type=Const>,\n",
              " <tf.Operation 'softmax_cross_entropy_with_logits/Sub_1' type=Sub>,\n",
              " <tf.Operation 'softmax_cross_entropy_with_logits/Slice_1/begin' type=Pack>,\n",
              " <tf.Operation 'softmax_cross_entropy_with_logits/Slice_1/size' type=Const>,\n",
              " <tf.Operation 'softmax_cross_entropy_with_logits/Slice_1' type=Slice>,\n",
              " <tf.Operation 'softmax_cross_entropy_with_logits/concat_1/values_0' type=Const>,\n",
              " <tf.Operation 'softmax_cross_entropy_with_logits/concat_1/axis' type=Const>,\n",
              " <tf.Operation 'softmax_cross_entropy_with_logits/concat_1' type=ConcatV2>,\n",
              " <tf.Operation 'softmax_cross_entropy_with_logits/Reshape_1' type=Reshape>,\n",
              " <tf.Operation 'softmax_cross_entropy_with_logits' type=SoftmaxCrossEntropyWithLogits>,\n",
              " <tf.Operation 'softmax_cross_entropy_with_logits/Sub_2/y' type=Const>,\n",
              " <tf.Operation 'softmax_cross_entropy_with_logits/Sub_2' type=Sub>,\n",
              " <tf.Operation 'softmax_cross_entropy_with_logits/Slice_2/begin' type=Const>,\n",
              " <tf.Operation 'softmax_cross_entropy_with_logits/Slice_2/size' type=Pack>,\n",
              " <tf.Operation 'softmax_cross_entropy_with_logits/Slice_2' type=Slice>,\n",
              " <tf.Operation 'softmax_cross_entropy_with_logits/Reshape_2' type=Reshape>,\n",
              " <tf.Operation 'Const' type=Const>,\n",
              " <tf.Operation 'Mean' type=Mean>,\n",
              " <tf.Operation 'gradients/Shape' type=Const>,\n",
              " <tf.Operation 'gradients/grad_ys_0' type=Const>,\n",
              " <tf.Operation 'gradients/Fill' type=Fill>,\n",
              " <tf.Operation 'gradients/Mean_grad/Reshape/shape' type=Const>,\n",
              " <tf.Operation 'gradients/Mean_grad/Reshape' type=Reshape>,\n",
              " <tf.Operation 'gradients/Mean_grad/Shape' type=Shape>,\n",
              " <tf.Operation 'gradients/Mean_grad/Tile' type=Tile>,\n",
              " <tf.Operation 'gradients/Mean_grad/Shape_1' type=Shape>,\n",
              " <tf.Operation 'gradients/Mean_grad/Shape_2' type=Const>,\n",
              " <tf.Operation 'gradients/Mean_grad/Const' type=Const>,\n",
              " <tf.Operation 'gradients/Mean_grad/Prod' type=Prod>,\n",
              " <tf.Operation 'gradients/Mean_grad/Const_1' type=Const>,\n",
              " <tf.Operation 'gradients/Mean_grad/Prod_1' type=Prod>,\n",
              " <tf.Operation 'gradients/Mean_grad/Maximum/y' type=Const>,\n",
              " <tf.Operation 'gradients/Mean_grad/Maximum' type=Maximum>,\n",
              " <tf.Operation 'gradients/Mean_grad/floordiv' type=FloorDiv>,\n",
              " <tf.Operation 'gradients/Mean_grad/Cast' type=Cast>,\n",
              " <tf.Operation 'gradients/Mean_grad/truediv' type=RealDiv>,\n",
              " <tf.Operation 'gradients/softmax_cross_entropy_with_logits/Reshape_2_grad/Shape' type=Shape>,\n",
              " <tf.Operation 'gradients/softmax_cross_entropy_with_logits/Reshape_2_grad/Reshape' type=Reshape>,\n",
              " <tf.Operation 'gradients/zeros_like' type=ZerosLike>,\n",
              " <tf.Operation 'gradients/softmax_cross_entropy_with_logits_grad/ExpandDims/dim' type=Const>,\n",
              " <tf.Operation 'gradients/softmax_cross_entropy_with_logits_grad/ExpandDims' type=ExpandDims>,\n",
              " <tf.Operation 'gradients/softmax_cross_entropy_with_logits_grad/mul' type=Mul>,\n",
              " <tf.Operation 'gradients/softmax_cross_entropy_with_logits_grad/LogSoftmax' type=LogSoftmax>,\n",
              " <tf.Operation 'gradients/softmax_cross_entropy_with_logits_grad/Neg' type=Neg>,\n",
              " <tf.Operation 'gradients/softmax_cross_entropy_with_logits_grad/ExpandDims_1/dim' type=Const>,\n",
              " <tf.Operation 'gradients/softmax_cross_entropy_with_logits_grad/ExpandDims_1' type=ExpandDims>,\n",
              " <tf.Operation 'gradients/softmax_cross_entropy_with_logits_grad/mul_1' type=Mul>,\n",
              " <tf.Operation 'gradients/softmax_cross_entropy_with_logits_grad/tuple/group_deps' type=NoOp>,\n",
              " <tf.Operation 'gradients/softmax_cross_entropy_with_logits_grad/tuple/control_dependency' type=Identity>,\n",
              " <tf.Operation 'gradients/softmax_cross_entropy_with_logits_grad/tuple/control_dependency_1' type=Identity>,\n",
              " <tf.Operation 'gradients/softmax_cross_entropy_with_logits/Reshape_grad/Shape' type=Shape>,\n",
              " <tf.Operation 'gradients/softmax_cross_entropy_with_logits/Reshape_grad/Reshape' type=Reshape>,\n",
              " <tf.Operation 'gradients/layer_fc_out/BiasAdd_grad/BiasAddGrad' type=BiasAddGrad>,\n",
              " <tf.Operation 'gradients/layer_fc_out/BiasAdd_grad/tuple/group_deps' type=NoOp>,\n",
              " <tf.Operation 'gradients/layer_fc_out/BiasAdd_grad/tuple/control_dependency' type=Identity>,\n",
              " <tf.Operation 'gradients/layer_fc_out/BiasAdd_grad/tuple/control_dependency_1' type=Identity>,\n",
              " <tf.Operation 'gradients/layer_fc_out/MatMul_grad/MatMul' type=MatMul>,\n",
              " <tf.Operation 'gradients/layer_fc_out/MatMul_grad/MatMul_1' type=MatMul>,\n",
              " <tf.Operation 'gradients/layer_fc_out/MatMul_grad/tuple/group_deps' type=NoOp>,\n",
              " <tf.Operation 'gradients/layer_fc_out/MatMul_grad/tuple/control_dependency' type=Identity>,\n",
              " <tf.Operation 'gradients/layer_fc_out/MatMul_grad/tuple/control_dependency_1' type=Identity>,\n",
              " <tf.Operation 'gradients/layer_fc1/Relu_grad/ReluGrad' type=ReluGrad>,\n",
              " <tf.Operation 'gradients/layer_fc1/BiasAdd_grad/BiasAddGrad' type=BiasAddGrad>,\n",
              " <tf.Operation 'gradients/layer_fc1/BiasAdd_grad/tuple/group_deps' type=NoOp>,\n",
              " <tf.Operation 'gradients/layer_fc1/BiasAdd_grad/tuple/control_dependency' type=Identity>,\n",
              " <tf.Operation 'gradients/layer_fc1/BiasAdd_grad/tuple/control_dependency_1' type=Identity>,\n",
              " <tf.Operation 'gradients/layer_fc1/MatMul_grad/MatMul' type=MatMul>,\n",
              " <tf.Operation 'gradients/layer_fc1/MatMul_grad/MatMul_1' type=MatMul>,\n",
              " <tf.Operation 'gradients/layer_fc1/MatMul_grad/tuple/group_deps' type=NoOp>,\n",
              " <tf.Operation 'gradients/layer_fc1/MatMul_grad/tuple/control_dependency' type=Identity>,\n",
              " <tf.Operation 'gradients/layer_fc1/MatMul_grad/tuple/control_dependency_1' type=Identity>,\n",
              " <tf.Operation 'gradients/flatten/Reshape_grad/Shape' type=Shape>,\n",
              " <tf.Operation 'gradients/flatten/Reshape_grad/Reshape' type=Reshape>,\n",
              " <tf.Operation 'gradients/max_pooling2d_1/MaxPool_grad/MaxPoolGrad' type=MaxPoolGrad>,\n",
              " <tf.Operation 'gradients/layer_conv2/Relu_grad/ReluGrad' type=ReluGrad>,\n",
              " <tf.Operation 'gradients/layer_conv2/BiasAdd_grad/BiasAddGrad' type=BiasAddGrad>,\n",
              " <tf.Operation 'gradients/layer_conv2/BiasAdd_grad/tuple/group_deps' type=NoOp>,\n",
              " <tf.Operation 'gradients/layer_conv2/BiasAdd_grad/tuple/control_dependency' type=Identity>,\n",
              " <tf.Operation 'gradients/layer_conv2/BiasAdd_grad/tuple/control_dependency_1' type=Identity>,\n",
              " <tf.Operation 'gradients/layer_conv2/Conv2D_grad/ShapeN' type=ShapeN>,\n",
              " <tf.Operation 'gradients/layer_conv2/Conv2D_grad/Conv2DBackpropInput' type=Conv2DBackpropInput>,\n",
              " <tf.Operation 'gradients/layer_conv2/Conv2D_grad/Conv2DBackpropFilter' type=Conv2DBackpropFilter>,\n",
              " <tf.Operation 'gradients/layer_conv2/Conv2D_grad/tuple/group_deps' type=NoOp>,\n",
              " <tf.Operation 'gradients/layer_conv2/Conv2D_grad/tuple/control_dependency' type=Identity>,\n",
              " <tf.Operation 'gradients/layer_conv2/Conv2D_grad/tuple/control_dependency_1' type=Identity>,\n",
              " <tf.Operation 'gradients/max_pooling2d/MaxPool_grad/MaxPoolGrad' type=MaxPoolGrad>,\n",
              " <tf.Operation 'gradients/layer_conv1/Relu_grad/ReluGrad' type=ReluGrad>,\n",
              " <tf.Operation 'gradients/layer_conv1/BiasAdd_grad/BiasAddGrad' type=BiasAddGrad>,\n",
              " <tf.Operation 'gradients/layer_conv1/BiasAdd_grad/tuple/group_deps' type=NoOp>,\n",
              " <tf.Operation 'gradients/layer_conv1/BiasAdd_grad/tuple/control_dependency' type=Identity>,\n",
              " <tf.Operation 'gradients/layer_conv1/BiasAdd_grad/tuple/control_dependency_1' type=Identity>,\n",
              " <tf.Operation 'gradients/layer_conv1/Conv2D_grad/ShapeN' type=ShapeN>,\n",
              " <tf.Operation 'gradients/layer_conv1/Conv2D_grad/Conv2DBackpropInput' type=Conv2DBackpropInput>,\n",
              " <tf.Operation 'gradients/layer_conv1/Conv2D_grad/Conv2DBackpropFilter' type=Conv2DBackpropFilter>,\n",
              " <tf.Operation 'gradients/layer_conv1/Conv2D_grad/tuple/group_deps' type=NoOp>,\n",
              " <tf.Operation 'gradients/layer_conv1/Conv2D_grad/tuple/control_dependency' type=Identity>,\n",
              " <tf.Operation 'gradients/layer_conv1/Conv2D_grad/tuple/control_dependency_1' type=Identity>,\n",
              " <tf.Operation 'beta1_power/initial_value' type=Const>,\n",
              " <tf.Operation 'beta1_power' type=VariableV2>,\n",
              " <tf.Operation 'beta1_power/Assign' type=Assign>,\n",
              " <tf.Operation 'beta1_power/read' type=Identity>,\n",
              " <tf.Operation 'beta2_power/initial_value' type=Const>,\n",
              " <tf.Operation 'beta2_power' type=VariableV2>,\n",
              " <tf.Operation 'beta2_power/Assign' type=Assign>,\n",
              " <tf.Operation 'beta2_power/read' type=Identity>,\n",
              " <tf.Operation 'layer_conv1/kernel/Adam/Initializer/zeros' type=Const>,\n",
              " <tf.Operation 'layer_conv1/kernel/Adam' type=VariableV2>,\n",
              " <tf.Operation 'layer_conv1/kernel/Adam/Assign' type=Assign>,\n",
              " <tf.Operation 'layer_conv1/kernel/Adam/read' type=Identity>,\n",
              " <tf.Operation 'layer_conv1/kernel/Adam_1/Initializer/zeros' type=Const>,\n",
              " <tf.Operation 'layer_conv1/kernel/Adam_1' type=VariableV2>,\n",
              " <tf.Operation 'layer_conv1/kernel/Adam_1/Assign' type=Assign>,\n",
              " <tf.Operation 'layer_conv1/kernel/Adam_1/read' type=Identity>,\n",
              " <tf.Operation 'layer_conv1/bias/Adam/Initializer/zeros' type=Const>,\n",
              " <tf.Operation 'layer_conv1/bias/Adam' type=VariableV2>,\n",
              " <tf.Operation 'layer_conv1/bias/Adam/Assign' type=Assign>,\n",
              " <tf.Operation 'layer_conv1/bias/Adam/read' type=Identity>,\n",
              " <tf.Operation 'layer_conv1/bias/Adam_1/Initializer/zeros' type=Const>,\n",
              " <tf.Operation 'layer_conv1/bias/Adam_1' type=VariableV2>,\n",
              " <tf.Operation 'layer_conv1/bias/Adam_1/Assign' type=Assign>,\n",
              " <tf.Operation 'layer_conv1/bias/Adam_1/read' type=Identity>,\n",
              " <tf.Operation 'layer_conv2/kernel/Adam/Initializer/zeros/shape_as_tensor' type=Const>,\n",
              " <tf.Operation 'layer_conv2/kernel/Adam/Initializer/zeros/Const' type=Const>,\n",
              " <tf.Operation 'layer_conv2/kernel/Adam/Initializer/zeros' type=Fill>,\n",
              " <tf.Operation 'layer_conv2/kernel/Adam' type=VariableV2>,\n",
              " <tf.Operation 'layer_conv2/kernel/Adam/Assign' type=Assign>,\n",
              " <tf.Operation 'layer_conv2/kernel/Adam/read' type=Identity>,\n",
              " <tf.Operation 'layer_conv2/kernel/Adam_1/Initializer/zeros/shape_as_tensor' type=Const>,\n",
              " <tf.Operation 'layer_conv2/kernel/Adam_1/Initializer/zeros/Const' type=Const>,\n",
              " <tf.Operation 'layer_conv2/kernel/Adam_1/Initializer/zeros' type=Fill>,\n",
              " <tf.Operation 'layer_conv2/kernel/Adam_1' type=VariableV2>,\n",
              " <tf.Operation 'layer_conv2/kernel/Adam_1/Assign' type=Assign>,\n",
              " <tf.Operation 'layer_conv2/kernel/Adam_1/read' type=Identity>,\n",
              " <tf.Operation 'layer_conv2/bias/Adam/Initializer/zeros' type=Const>,\n",
              " <tf.Operation 'layer_conv2/bias/Adam' type=VariableV2>,\n",
              " <tf.Operation 'layer_conv2/bias/Adam/Assign' type=Assign>,\n",
              " <tf.Operation 'layer_conv2/bias/Adam/read' type=Identity>,\n",
              " <tf.Operation 'layer_conv2/bias/Adam_1/Initializer/zeros' type=Const>,\n",
              " <tf.Operation 'layer_conv2/bias/Adam_1' type=VariableV2>,\n",
              " <tf.Operation 'layer_conv2/bias/Adam_1/Assign' type=Assign>,\n",
              " <tf.Operation 'layer_conv2/bias/Adam_1/read' type=Identity>,\n",
              " <tf.Operation 'layer_fc1/kernel/Adam/Initializer/zeros/shape_as_tensor' type=Const>,\n",
              " <tf.Operation 'layer_fc1/kernel/Adam/Initializer/zeros/Const' type=Const>,\n",
              " <tf.Operation 'layer_fc1/kernel/Adam/Initializer/zeros' type=Fill>,\n",
              " <tf.Operation 'layer_fc1/kernel/Adam' type=VariableV2>,\n",
              " <tf.Operation 'layer_fc1/kernel/Adam/Assign' type=Assign>,\n",
              " <tf.Operation 'layer_fc1/kernel/Adam/read' type=Identity>,\n",
              " <tf.Operation 'layer_fc1/kernel/Adam_1/Initializer/zeros/shape_as_tensor' type=Const>,\n",
              " <tf.Operation 'layer_fc1/kernel/Adam_1/Initializer/zeros/Const' type=Const>,\n",
              " <tf.Operation 'layer_fc1/kernel/Adam_1/Initializer/zeros' type=Fill>,\n",
              " <tf.Operation 'layer_fc1/kernel/Adam_1' type=VariableV2>,\n",
              " <tf.Operation 'layer_fc1/kernel/Adam_1/Assign' type=Assign>,\n",
              " <tf.Operation 'layer_fc1/kernel/Adam_1/read' type=Identity>,\n",
              " <tf.Operation 'layer_fc1/bias/Adam/Initializer/zeros' type=Const>,\n",
              " <tf.Operation 'layer_fc1/bias/Adam' type=VariableV2>,\n",
              " <tf.Operation 'layer_fc1/bias/Adam/Assign' type=Assign>,\n",
              " <tf.Operation 'layer_fc1/bias/Adam/read' type=Identity>,\n",
              " <tf.Operation 'layer_fc1/bias/Adam_1/Initializer/zeros' type=Const>,\n",
              " <tf.Operation 'layer_fc1/bias/Adam_1' type=VariableV2>,\n",
              " <tf.Operation 'layer_fc1/bias/Adam_1/Assign' type=Assign>,\n",
              " <tf.Operation 'layer_fc1/bias/Adam_1/read' type=Identity>,\n",
              " <tf.Operation 'layer_fc_out/kernel/Adam/Initializer/zeros' type=Const>,\n",
              " <tf.Operation 'layer_fc_out/kernel/Adam' type=VariableV2>,\n",
              " <tf.Operation 'layer_fc_out/kernel/Adam/Assign' type=Assign>,\n",
              " <tf.Operation 'layer_fc_out/kernel/Adam/read' type=Identity>,\n",
              " <tf.Operation 'layer_fc_out/kernel/Adam_1/Initializer/zeros' type=Const>,\n",
              " <tf.Operation 'layer_fc_out/kernel/Adam_1' type=VariableV2>,\n",
              " <tf.Operation 'layer_fc_out/kernel/Adam_1/Assign' type=Assign>,\n",
              " <tf.Operation 'layer_fc_out/kernel/Adam_1/read' type=Identity>,\n",
              " <tf.Operation 'layer_fc_out/bias/Adam/Initializer/zeros' type=Const>,\n",
              " <tf.Operation 'layer_fc_out/bias/Adam' type=VariableV2>,\n",
              " <tf.Operation 'layer_fc_out/bias/Adam/Assign' type=Assign>,\n",
              " <tf.Operation 'layer_fc_out/bias/Adam/read' type=Identity>,\n",
              " <tf.Operation 'layer_fc_out/bias/Adam_1/Initializer/zeros' type=Const>,\n",
              " <tf.Operation 'layer_fc_out/bias/Adam_1' type=VariableV2>,\n",
              " <tf.Operation 'layer_fc_out/bias/Adam_1/Assign' type=Assign>,\n",
              " <tf.Operation 'layer_fc_out/bias/Adam_1/read' type=Identity>,\n",
              " <tf.Operation 'Adam/learning_rate' type=Const>,\n",
              " <tf.Operation 'Adam/beta1' type=Const>,\n",
              " <tf.Operation 'Adam/beta2' type=Const>,\n",
              " <tf.Operation 'Adam/epsilon' type=Const>,\n",
              " <tf.Operation 'Adam/update_layer_conv1/kernel/ApplyAdam' type=ApplyAdam>,\n",
              " <tf.Operation 'Adam/update_layer_conv1/bias/ApplyAdam' type=ApplyAdam>,\n",
              " <tf.Operation 'Adam/update_layer_conv2/kernel/ApplyAdam' type=ApplyAdam>,\n",
              " <tf.Operation 'Adam/update_layer_conv2/bias/ApplyAdam' type=ApplyAdam>,\n",
              " <tf.Operation 'Adam/update_layer_fc1/kernel/ApplyAdam' type=ApplyAdam>,\n",
              " <tf.Operation 'Adam/update_layer_fc1/bias/ApplyAdam' type=ApplyAdam>,\n",
              " <tf.Operation 'Adam/update_layer_fc_out/kernel/ApplyAdam' type=ApplyAdam>,\n",
              " <tf.Operation 'Adam/update_layer_fc_out/bias/ApplyAdam' type=ApplyAdam>,\n",
              " <tf.Operation 'Adam/mul' type=Mul>,\n",
              " <tf.Operation 'Adam/Assign' type=Assign>,\n",
              " <tf.Operation 'Adam/mul_1' type=Mul>,\n",
              " <tf.Operation 'Adam/Assign_1' type=Assign>,\n",
              " <tf.Operation 'Adam' type=NoOp>,\n",
              " <tf.Operation 'ArgMax_1/dimension' type=Const>,\n",
              " <tf.Operation 'ArgMax_1' type=ArgMax>,\n",
              " <tf.Operation 'Equal' type=Equal>,\n",
              " <tf.Operation 'Cast' type=Cast>,\n",
              " <tf.Operation 'Const_1' type=Const>,\n",
              " <tf.Operation 'Mean_1' type=Mean>,\n",
              " <tf.Operation 'init' type=NoOp>]"
            ]
          },
          "metadata": {
            "tags": []
          },
          "execution_count": 141
        }
      ]
    }
  ]
}